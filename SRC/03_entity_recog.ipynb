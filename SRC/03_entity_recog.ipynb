{
  "nbformat": 4,
  "nbformat_minor": 0,
  "metadata": {
    "colab": {
      "name": "03_entity_recog.ipynb",
      "provenance": []
    },
    "kernelspec": {
      "name": "python3",
      "display_name": "Python 3"
    },
    "language_info": {
      "name": "python"
    }
  },
  "cells": [
    {
      "cell_type": "markdown",
      "source": [
        "# To INSTALL packages"
      ],
      "metadata": {
        "id": "jtQUWXcIIqVc"
      }
    },
    {
      "cell_type": "code",
      "execution_count": null,
      "metadata": {
        "id": "PgCM19DMQWHk"
      },
      "outputs": [],
      "source": [
        "!pip install -U pip setuptools wheel\n",
        "!pip install -U spacy"
      ]
    },
    {
      "cell_type": "code",
      "source": [
        "!pip install -U pip setuptools wheel\n",
        "!pip install -U spacy\n",
        "!python -m spacy download en_core_web_sm\n",
        "!python -m spacy download pt_core_news_sm"
      ],
      "metadata": {
        "id": "rb6_CVpMQwCz"
      },
      "execution_count": null,
      "outputs": []
    },
    {
      "cell_type": "markdown",
      "source": [
        "# To READ files"
      ],
      "metadata": {
        "id": "5xDtCzzcI4AH"
      }
    },
    {
      "cell_type": "code",
      "source": [
        "# Google drive conection\n",
        "from google.colab import drive\n",
        "drive.mount('/content/drive')"
      ],
      "metadata": {
        "colab": {
          "base_uri": "https://localhost:8080/"
        },
        "id": "XCdbCAj2_Mbf",
        "outputId": "a38ead82-d87b-49da-90c5-e9f10ba4b248"
      },
      "execution_count": 53,
      "outputs": [
        {
          "output_type": "stream",
          "name": "stdout",
          "text": [
            "Drive already mounted at /content/drive; to attempt to forcibly remount, call drive.mount(\"/content/drive\", force_remount=True).\n"
          ]
        }
      ]
    },
    {
      "cell_type": "code",
      "source": [
        "path = \"/content/drive/MyDrive/INSPER/03_trabfinal_1certif/Dados/Processed/\"\n",
        "\n",
        "from os import listdir\n",
        "files = listdir(path)\n",
        "files"
      ],
      "metadata": {
        "colab": {
          "base_uri": "https://localhost:8080/"
        },
        "id": "xDOo136a_XDO",
        "outputId": "e6f96cdf-fe1f-4b6c-d1da-b05f3d978c1d"
      },
      "execution_count": 54,
      "outputs": [
        {
          "output_type": "execute_result",
          "data": {
            "text/plain": [
              "['1721134973363736_João Pedro Pitombo_2022-01-05_Coronavírus.txt',\n",
              " '1721130095679618_Fábio Pescarini_2022-01-05_Coronavírus.txt',\n",
              " '1721122587219657_Luís Costa_2022-01-05_Rio de Janeiro.txt',\n",
              " '1721153153464175_José Matheus Santos_2022-01-05_Coronavírus.txt',\n",
              " '1721155128269049_Isabella Menon_2022-01-05_Coronavírus.txt',\n",
              " '1721167833180765_Wesley Faraó Klimpel_2022-01-05_Mobilidade Urbana.txt',\n",
              " '1721034292748976_Isac Godinho_2022-01-06_Folhajus.txt']"
            ]
          },
          "metadata": {},
          "execution_count": 54
        }
      ]
    },
    {
      "cell_type": "code",
      "source": [
        "file1 = open(path + files[5], \"r+\")\n",
        "\n",
        "text = file1.read()\n",
        "text"
      ],
      "metadata": {
        "colab": {
          "base_uri": "https://localhost:8080/",
          "height": 126
        },
        "id": "S8PQF7qq_46w",
        "outputId": "995b0648-d1f7-4d7a-a576-472c7c18013e"
      },
      "execution_count": 55,
      "outputs": [
        {
          "output_type": "execute_result",
          "data": {
            "application/vnd.google.colaboratory.intrinsic+json": {
              "type": "string"
            },
            "text/plain": [
              "'Mini-Fusca de menina de 7 anos é guinchado pela polícia em SC; veja vídeo. PM cobrou licenciamento de veículo, mas mãe tinha apenas nota fiscal. O primeiro dia de 2022 deixou memórias ruins para a família de Simone França, 40. Seu marido e sua filha, de 7 anos, estavam passeando em um mini-Fusca em Itapoá (a 250 km de Florianópolis) quando o veículo foi apreendido e guinchado pela Polícia Militar de Santa Catarina.    De acordo com a PM, o mini-Fusca, por ser motorizado e movido a gasolina, ao circular em uma via pública, recebe o tratamento como um veículo automotor, conforme o Código de Trânsito Brasileiro.    \"Estava sendo conduzido sem as devidas condições de segurança, sem a documentação necessária (licenciamento) e dirigido por pessoa não habilitada, que acarretam na remoção do mesmo, além das autuações pertinentes\", diz em nota a corporação.    Segundo Simone, sua filha estava acompanhada do pai no mini-Fusca conversível, e tanto o carro da frente quanto o de trás eram da família, fazendo a segurança do veículo, com pisca-alerta ligado.    Quando o veículo foi abordado, a empresária afirma que tentou apresentar ao policial a nota fiscal do modelo, que é voltado ao público infantil, mas ele cobrou o licenciamento e disse que já havia orientado a família sobre isso.    Esse mesmo PM, segundo a mulher, os havia abordado dois dias antes, quando a criança dirigia na rua de casa, e perguntara apenas sobre nota fiscal. \"Ele não falou em nenhum momento que não podia andar. Se dissesse algo, eu já deixava na garagem de casa e pedia para o meu pai levar embora\", explica ela.    Nesse segundo encontro, após o policial pedir a documentação, Simone disse que não sabia que precisava e sugeriu empurrar o brinquedo motorizado de volta para casa ou então tirar a bateria.    \"O desconhecimento da legislação não exime o condutor da aplicação das normas, seja elas de trânsito ou de outra espécie\", diz a PM em nota.    \\u200bA empresária afirma que quem estava conduzindo o mini-Fusca era o pai, e não a filha. \"Era ele que estava usando o freio e o acelerador. O policial alegou que ela estava dirigindo, e a gente falava ‘como que a gente vai deixar ela dirigir aqui?’ Não dava nem para andar a 10 km/h.\"    Modelos como o da família paranaense têm quatro pedais: um freio e um acelerador para quem está à esquerda e outro freio e outro acelerador para quem está à direita.    Segundo a PM, a entrega de veículo a pessoa não habilitada pode gerar detenção de seis meses a um ano ou multa. O pai da criança teve a habilitação apreendida e vai responder a um processo criminal.    Para Alan Bousso, mestre em direito civil, o pai da criança tem que responder criminalmente, por ser o responsável pela menor. \"Como o carro pode atingir 50 km/h, ele pode causar prejuízo para as pessoas\", explica. \"A polícia não tem só o dever, mas a obrigação de tirar o carro de circulação, que pode causar a morte de alguém.\"    Segundo a empresária, a filha costuma dirigir o mini-Fusca no condomínio onde moram, em São José dos Pinhais (PR), e nunca teve um problema semelhante. O carro, que custou R$ 12.500, faz sucesso entre as crianças da região, ela diz.    Após a confusão, a família adiantou o retorno para casa e já procurou um advogado para liberar o mini-Fusca com a Justiça. A empresária diz, ainda, que está avaliando processar o Estado de Santa Catarina pelo jeito que a família foi tratada pelos PMs.    Segundo a paranaense, a filha sofreu bastante com o ocorrido, tanto durante as quatro horas que levou o guinchamento, quanto depois, tendo pesadelos com a mãe sendo presa.  '"
            ]
          },
          "metadata": {},
          "execution_count": 55
        }
      ]
    },
    {
      "cell_type": "code",
      "source": [
        "import nltk\n",
        "nltk.download('punkt')"
      ],
      "metadata": {
        "colab": {
          "base_uri": "https://localhost:8080/"
        },
        "id": "SylqQtMlDLed",
        "outputId": "f53d6e3e-40f4-44a6-c162-370bfb106cf3"
      },
      "execution_count": 57,
      "outputs": [
        {
          "output_type": "stream",
          "name": "stdout",
          "text": [
            "[nltk_data] Downloading package punkt to /root/nltk_data...\n",
            "[nltk_data]   Package punkt is already up-to-date!\n"
          ]
        },
        {
          "output_type": "execute_result",
          "data": {
            "text/plain": [
              "True"
            ]
          },
          "metadata": {},
          "execution_count": 57
        }
      ]
    },
    {
      "cell_type": "code",
      "source": [
        "from nltk.tokenize import sent_tokenize\n",
        "# Split sentences by '.'  \n",
        "sentences = sent_tokenize(text)\n",
        "sentences"
      ],
      "metadata": {
        "colab": {
          "base_uri": "https://localhost:8080/"
        },
        "id": "ZFSUIznSDC1t",
        "outputId": "37b97d4b-ff6a-483e-81ff-66e76388de13"
      },
      "execution_count": 74,
      "outputs": [
        {
          "output_type": "execute_result",
          "data": {
            "text/plain": [
              "['Mini-Fusca de menina de 7 anos é guinchado pela polícia em SC; veja vídeo.',\n",
              " 'PM cobrou licenciamento de veículo, mas mãe tinha apenas nota fiscal.',\n",
              " 'O primeiro dia de 2022 deixou memórias ruins para a família de Simone França, 40.',\n",
              " 'Seu marido e sua filha, de 7 anos, estavam passeando em um mini-Fusca em Itapoá (a 250 km de Florianópolis) quando o veículo foi apreendido e guinchado pela Polícia Militar de Santa Catarina.',\n",
              " 'De acordo com a PM, o mini-Fusca, por ser motorizado e movido a gasolina, ao circular em uma via pública, recebe o tratamento como um veículo automotor, conforme o Código de Trânsito Brasileiro.',\n",
              " '\"Estava sendo conduzido sem as devidas condições de segurança, sem a documentação necessária (licenciamento) e dirigido por pessoa não habilitada, que acarretam na remoção do mesmo, além das autuações pertinentes\", diz em nota a corporação.',\n",
              " 'Segundo Simone, sua filha estava acompanhada do pai no mini-Fusca conversível, e tanto o carro da frente quanto o de trás eram da família, fazendo a segurança do veículo, com pisca-alerta ligado.',\n",
              " 'Quando o veículo foi abordado, a empresária afirma que tentou apresentar ao policial a nota fiscal do modelo, que é voltado ao público infantil, mas ele cobrou o licenciamento e disse que já havia orientado a família sobre isso.',\n",
              " 'Esse mesmo PM, segundo a mulher, os havia abordado dois dias antes, quando a criança dirigia na rua de casa, e perguntara apenas sobre nota fiscal.',\n",
              " '\"Ele não falou em nenhum momento que não podia andar.',\n",
              " 'Se dissesse algo, eu já deixava na garagem de casa e pedia para o meu pai levar embora\", explica ela.',\n",
              " 'Nesse segundo encontro, após o policial pedir a documentação, Simone disse que não sabia que precisava e sugeriu empurrar o brinquedo motorizado de volta para casa ou então tirar a bateria.',\n",
              " '\"O desconhecimento da legislação não exime o condutor da aplicação das normas, seja elas de trânsito ou de outra espécie\", diz a PM em nota.',\n",
              " '\\u200bA empresária afirma que quem estava conduzindo o mini-Fusca era o pai, e não a filha.',\n",
              " '\"Era ele que estava usando o freio e o acelerador.',\n",
              " 'O policial alegou que ela estava dirigindo, e a gente falava ‘como que a gente vai deixar ela dirigir aqui?’ Não dava nem para andar a 10 km/h.\"',\n",
              " 'Modelos como o da família paranaense têm quatro pedais: um freio e um acelerador para quem está à esquerda e outro freio e outro acelerador para quem está à direita.',\n",
              " 'Segundo a PM, a entrega de veículo a pessoa não habilitada pode gerar detenção de seis meses a um ano ou multa.',\n",
              " 'O pai da criança teve a habilitação apreendida e vai responder a um processo criminal.',\n",
              " 'Para Alan Bousso, mestre em direito civil, o pai da criança tem que responder criminalmente, por ser o responsável pela menor.',\n",
              " '\"Como o carro pode atingir 50 km/h, ele pode causar prejuízo para as pessoas\", explica.',\n",
              " '\"A polícia não tem só o dever, mas a obrigação de tirar o carro de circulação, que pode causar a morte de alguém.\"',\n",
              " 'Segundo a empresária, a filha costuma dirigir o mini-Fusca no condomínio onde moram, em São José dos Pinhais (PR), e nunca teve um problema semelhante.',\n",
              " 'O carro, que custou R$ 12.500, faz sucesso entre as crianças da região, ela diz.',\n",
              " 'Após a confusão, a família adiantou o retorno para casa e já procurou um advogado para liberar o mini-Fusca com a Justiça.',\n",
              " 'A empresária diz, ainda, que está avaliando processar o Estado de Santa Catarina pelo jeito que a família foi tratada pelos PMs.',\n",
              " 'Segundo a paranaense, a filha sofreu bastante com o ocorrido, tanto durante as quatro horas que levou o guinchamento, quanto depois, tendo pesadelos com a mãe sendo presa.']"
            ]
          },
          "metadata": {},
          "execution_count": 74
        }
      ]
    },
    {
      "cell_type": "code",
      "source": [
        "# https://monkeylearn.com/blog/named-entity-recognition/\n",
        "# https://spacy.io/usage/linguistic-features#tokenization\n",
        "\n",
        "import spacy\n",
        "# Entity Recognition model in Portuguese\n",
        "nlp = spacy.load(\"pt_core_news_sm\")\n",
        "# Auxiliary object\n",
        "entities_aux = []"
      ],
      "metadata": {
        "id": "6t7FcflaKUTG"
      },
      "execution_count": 84,
      "outputs": []
    },
    {
      "cell_type": "code",
      "source": [
        "for sent in sentences:\n",
        "  # Apply entity recognition model by sentence\n",
        "  sent_ent = nlp(sent)\n",
        "  # Entity recognition\n",
        "  ents = [(e.text, e.label_) for e in sent_ent.ents]\n",
        "  entities_aux.append(ents)"
      ],
      "metadata": {
        "id": "Zs3CiD0fJVbR"
      },
      "execution_count": 85,
      "outputs": []
    },
    {
      "cell_type": "code",
      "source": [
        "# Keep only the annotated entries \n",
        "entities = []\n",
        "for l in entities_aux:\n",
        "    entities.extend(l)"
      ],
      "metadata": {
        "id": "WCA-hDnxRKlb"
      },
      "execution_count": 86,
      "outputs": []
    },
    {
      "cell_type": "code",
      "source": [
        "entities"
      ],
      "metadata": {
        "colab": {
          "base_uri": "https://localhost:8080/"
        },
        "id": "2h31AAXAZvm8",
        "outputId": "c038f050-47d9-4ff9-858e-c4fb9e329dc0"
      },
      "execution_count": 123,
      "outputs": [
        {
          "output_type": "execute_result",
          "data": {
            "text/plain": [
              "[('Mini-Fusca', 'LOC'),\n",
              " ('SC', 'MISC'),\n",
              " ('Simone França', 'PER'),\n",
              " ('Itapoá', 'LOC'),\n",
              " ('Florianópolis', 'LOC'),\n",
              " ('Polícia Militar de Santa Catarina', 'LOC'),\n",
              " ('PM', 'ORG'),\n",
              " ('Código de Trânsito Brasileiro', 'LOC'),\n",
              " ('pessoa', 'PER'),\n",
              " ('Simone', 'PER'),\n",
              " ('Simone', 'PER'),\n",
              " ('PM', 'LOC'),\n",
              " ('\\u200bA', 'PER'),\n",
              " ('PM', 'ORG'),\n",
              " ('Alan Bousso', 'PER'),\n",
              " ('São José dos Pinhais', 'LOC'),\n",
              " ('R$', 'MISC'),\n",
              " ('Justiça', 'MISC'),\n",
              " ('Estado de Santa Catarina', 'LOC'),\n",
              " ('PMs', 'MISC')]"
            ]
          },
          "metadata": {},
          "execution_count": 123
        }
      ]
    },
    {
      "cell_type": "code",
      "source": [
        "# Entities on a data frame object\n",
        "import pandas as pd\n",
        "df = pd.DataFrame(entities, columns = ['Entity', 'Type'])\n",
        "df = df.query('Type == \"PER\"')\n",
        "df"
      ],
      "metadata": {
        "colab": {
          "base_uri": "https://localhost:8080/",
          "height": 236
        },
        "id": "o8qIUcCoRPBo",
        "outputId": "ebb32bd1-88c8-4098-a1c4-8c5984b7bb5c"
      },
      "execution_count": 126,
      "outputs": [
        {
          "output_type": "execute_result",
          "data": {
            "text/html": [
              "\n",
              "  <div id=\"df-8475679d-0ff9-469f-b594-2f35c4391368\">\n",
              "    <div class=\"colab-df-container\">\n",
              "      <div>\n",
              "<style scoped>\n",
              "    .dataframe tbody tr th:only-of-type {\n",
              "        vertical-align: middle;\n",
              "    }\n",
              "\n",
              "    .dataframe tbody tr th {\n",
              "        vertical-align: top;\n",
              "    }\n",
              "\n",
              "    .dataframe thead th {\n",
              "        text-align: right;\n",
              "    }\n",
              "</style>\n",
              "<table border=\"1\" class=\"dataframe\">\n",
              "  <thead>\n",
              "    <tr style=\"text-align: right;\">\n",
              "      <th></th>\n",
              "      <th>Entity</th>\n",
              "      <th>Type</th>\n",
              "    </tr>\n",
              "  </thead>\n",
              "  <tbody>\n",
              "    <tr>\n",
              "      <th>2</th>\n",
              "      <td>Simone França</td>\n",
              "      <td>PER</td>\n",
              "    </tr>\n",
              "    <tr>\n",
              "      <th>8</th>\n",
              "      <td>pessoa</td>\n",
              "      <td>PER</td>\n",
              "    </tr>\n",
              "    <tr>\n",
              "      <th>9</th>\n",
              "      <td>Simone</td>\n",
              "      <td>PER</td>\n",
              "    </tr>\n",
              "    <tr>\n",
              "      <th>10</th>\n",
              "      <td>Simone</td>\n",
              "      <td>PER</td>\n",
              "    </tr>\n",
              "    <tr>\n",
              "      <th>12</th>\n",
              "      <td>​A</td>\n",
              "      <td>PER</td>\n",
              "    </tr>\n",
              "    <tr>\n",
              "      <th>14</th>\n",
              "      <td>Alan Bousso</td>\n",
              "      <td>PER</td>\n",
              "    </tr>\n",
              "  </tbody>\n",
              "</table>\n",
              "</div>\n",
              "      <button class=\"colab-df-convert\" onclick=\"convertToInteractive('df-8475679d-0ff9-469f-b594-2f35c4391368')\"\n",
              "              title=\"Convert this dataframe to an interactive table.\"\n",
              "              style=\"display:none;\">\n",
              "        \n",
              "  <svg xmlns=\"http://www.w3.org/2000/svg\" height=\"24px\"viewBox=\"0 0 24 24\"\n",
              "       width=\"24px\">\n",
              "    <path d=\"M0 0h24v24H0V0z\" fill=\"none\"/>\n",
              "    <path d=\"M18.56 5.44l.94 2.06.94-2.06 2.06-.94-2.06-.94-.94-2.06-.94 2.06-2.06.94zm-11 1L8.5 8.5l.94-2.06 2.06-.94-2.06-.94L8.5 2.5l-.94 2.06-2.06.94zm10 10l.94 2.06.94-2.06 2.06-.94-2.06-.94-.94-2.06-.94 2.06-2.06.94z\"/><path d=\"M17.41 7.96l-1.37-1.37c-.4-.4-.92-.59-1.43-.59-.52 0-1.04.2-1.43.59L10.3 9.45l-7.72 7.72c-.78.78-.78 2.05 0 2.83L4 21.41c.39.39.9.59 1.41.59.51 0 1.02-.2 1.41-.59l7.78-7.78 2.81-2.81c.8-.78.8-2.07 0-2.86zM5.41 20L4 18.59l7.72-7.72 1.47 1.35L5.41 20z\"/>\n",
              "  </svg>\n",
              "      </button>\n",
              "      \n",
              "  <style>\n",
              "    .colab-df-container {\n",
              "      display:flex;\n",
              "      flex-wrap:wrap;\n",
              "      gap: 12px;\n",
              "    }\n",
              "\n",
              "    .colab-df-convert {\n",
              "      background-color: #E8F0FE;\n",
              "      border: none;\n",
              "      border-radius: 50%;\n",
              "      cursor: pointer;\n",
              "      display: none;\n",
              "      fill: #1967D2;\n",
              "      height: 32px;\n",
              "      padding: 0 0 0 0;\n",
              "      width: 32px;\n",
              "    }\n",
              "\n",
              "    .colab-df-convert:hover {\n",
              "      background-color: #E2EBFA;\n",
              "      box-shadow: 0px 1px 2px rgba(60, 64, 67, 0.3), 0px 1px 3px 1px rgba(60, 64, 67, 0.15);\n",
              "      fill: #174EA6;\n",
              "    }\n",
              "\n",
              "    [theme=dark] .colab-df-convert {\n",
              "      background-color: #3B4455;\n",
              "      fill: #D2E3FC;\n",
              "    }\n",
              "\n",
              "    [theme=dark] .colab-df-convert:hover {\n",
              "      background-color: #434B5C;\n",
              "      box-shadow: 0px 1px 3px 1px rgba(0, 0, 0, 0.15);\n",
              "      filter: drop-shadow(0px 1px 2px rgba(0, 0, 0, 0.3));\n",
              "      fill: #FFFFFF;\n",
              "    }\n",
              "  </style>\n",
              "\n",
              "      <script>\n",
              "        const buttonEl =\n",
              "          document.querySelector('#df-8475679d-0ff9-469f-b594-2f35c4391368 button.colab-df-convert');\n",
              "        buttonEl.style.display =\n",
              "          google.colab.kernel.accessAllowed ? 'block' : 'none';\n",
              "\n",
              "        async function convertToInteractive(key) {\n",
              "          const element = document.querySelector('#df-8475679d-0ff9-469f-b594-2f35c4391368');\n",
              "          const dataTable =\n",
              "            await google.colab.kernel.invokeFunction('convertToInteractive',\n",
              "                                                     [key], {});\n",
              "          if (!dataTable) return;\n",
              "\n",
              "          const docLinkHtml = 'Like what you see? Visit the ' +\n",
              "            '<a target=\"_blank\" href=https://colab.research.google.com/notebooks/data_table.ipynb>data table notebook</a>'\n",
              "            + ' to learn more about interactive tables.';\n",
              "          element.innerHTML = '';\n",
              "          dataTable['output_type'] = 'display_data';\n",
              "          await google.colab.output.renderOutput(dataTable, element);\n",
              "          const docLink = document.createElement('div');\n",
              "          docLink.innerHTML = docLinkHtml;\n",
              "          element.appendChild(docLink);\n",
              "        }\n",
              "      </script>\n",
              "    </div>\n",
              "  </div>\n",
              "  "
            ],
            "text/plain": [
              "           Entity Type\n",
              "2   Simone França  PER\n",
              "8          pessoa  PER\n",
              "9          Simone  PER\n",
              "10         Simone  PER\n",
              "12             ​A  PER\n",
              "14    Alan Bousso  PER"
            ]
          },
          "metadata": {},
          "execution_count": 126
        }
      ]
    },
    {
      "cell_type": "code",
      "source": [
        "# Filtering Entities that have at least one capital letter\n",
        "df = df[df['Entity'].str.match(\"[A-Z]+\") == True]\n",
        "df"
      ],
      "metadata": {
        "colab": {
          "base_uri": "https://localhost:8080/",
          "height": 175
        },
        "id": "EkI6SDphdda1",
        "outputId": "4e1d316a-01aa-4ab6-8418-a147533f25d0"
      },
      "execution_count": 132,
      "outputs": [
        {
          "output_type": "execute_result",
          "data": {
            "text/html": [
              "\n",
              "  <div id=\"df-98bb8411-d88c-4584-b7b5-69340062600a\">\n",
              "    <div class=\"colab-df-container\">\n",
              "      <div>\n",
              "<style scoped>\n",
              "    .dataframe tbody tr th:only-of-type {\n",
              "        vertical-align: middle;\n",
              "    }\n",
              "\n",
              "    .dataframe tbody tr th {\n",
              "        vertical-align: top;\n",
              "    }\n",
              "\n",
              "    .dataframe thead th {\n",
              "        text-align: right;\n",
              "    }\n",
              "</style>\n",
              "<table border=\"1\" class=\"dataframe\">\n",
              "  <thead>\n",
              "    <tr style=\"text-align: right;\">\n",
              "      <th></th>\n",
              "      <th>Entity</th>\n",
              "      <th>Type</th>\n",
              "    </tr>\n",
              "  </thead>\n",
              "  <tbody>\n",
              "    <tr>\n",
              "      <th>2</th>\n",
              "      <td>Simone França</td>\n",
              "      <td>PER</td>\n",
              "    </tr>\n",
              "    <tr>\n",
              "      <th>9</th>\n",
              "      <td>Simone</td>\n",
              "      <td>PER</td>\n",
              "    </tr>\n",
              "    <tr>\n",
              "      <th>10</th>\n",
              "      <td>Simone</td>\n",
              "      <td>PER</td>\n",
              "    </tr>\n",
              "    <tr>\n",
              "      <th>14</th>\n",
              "      <td>Alan Bousso</td>\n",
              "      <td>PER</td>\n",
              "    </tr>\n",
              "  </tbody>\n",
              "</table>\n",
              "</div>\n",
              "      <button class=\"colab-df-convert\" onclick=\"convertToInteractive('df-98bb8411-d88c-4584-b7b5-69340062600a')\"\n",
              "              title=\"Convert this dataframe to an interactive table.\"\n",
              "              style=\"display:none;\">\n",
              "        \n",
              "  <svg xmlns=\"http://www.w3.org/2000/svg\" height=\"24px\"viewBox=\"0 0 24 24\"\n",
              "       width=\"24px\">\n",
              "    <path d=\"M0 0h24v24H0V0z\" fill=\"none\"/>\n",
              "    <path d=\"M18.56 5.44l.94 2.06.94-2.06 2.06-.94-2.06-.94-.94-2.06-.94 2.06-2.06.94zm-11 1L8.5 8.5l.94-2.06 2.06-.94-2.06-.94L8.5 2.5l-.94 2.06-2.06.94zm10 10l.94 2.06.94-2.06 2.06-.94-2.06-.94-.94-2.06-.94 2.06-2.06.94z\"/><path d=\"M17.41 7.96l-1.37-1.37c-.4-.4-.92-.59-1.43-.59-.52 0-1.04.2-1.43.59L10.3 9.45l-7.72 7.72c-.78.78-.78 2.05 0 2.83L4 21.41c.39.39.9.59 1.41.59.51 0 1.02-.2 1.41-.59l7.78-7.78 2.81-2.81c.8-.78.8-2.07 0-2.86zM5.41 20L4 18.59l7.72-7.72 1.47 1.35L5.41 20z\"/>\n",
              "  </svg>\n",
              "      </button>\n",
              "      \n",
              "  <style>\n",
              "    .colab-df-container {\n",
              "      display:flex;\n",
              "      flex-wrap:wrap;\n",
              "      gap: 12px;\n",
              "    }\n",
              "\n",
              "    .colab-df-convert {\n",
              "      background-color: #E8F0FE;\n",
              "      border: none;\n",
              "      border-radius: 50%;\n",
              "      cursor: pointer;\n",
              "      display: none;\n",
              "      fill: #1967D2;\n",
              "      height: 32px;\n",
              "      padding: 0 0 0 0;\n",
              "      width: 32px;\n",
              "    }\n",
              "\n",
              "    .colab-df-convert:hover {\n",
              "      background-color: #E2EBFA;\n",
              "      box-shadow: 0px 1px 2px rgba(60, 64, 67, 0.3), 0px 1px 3px 1px rgba(60, 64, 67, 0.15);\n",
              "      fill: #174EA6;\n",
              "    }\n",
              "\n",
              "    [theme=dark] .colab-df-convert {\n",
              "      background-color: #3B4455;\n",
              "      fill: #D2E3FC;\n",
              "    }\n",
              "\n",
              "    [theme=dark] .colab-df-convert:hover {\n",
              "      background-color: #434B5C;\n",
              "      box-shadow: 0px 1px 3px 1px rgba(0, 0, 0, 0.15);\n",
              "      filter: drop-shadow(0px 1px 2px rgba(0, 0, 0, 0.3));\n",
              "      fill: #FFFFFF;\n",
              "    }\n",
              "  </style>\n",
              "\n",
              "      <script>\n",
              "        const buttonEl =\n",
              "          document.querySelector('#df-98bb8411-d88c-4584-b7b5-69340062600a button.colab-df-convert');\n",
              "        buttonEl.style.display =\n",
              "          google.colab.kernel.accessAllowed ? 'block' : 'none';\n",
              "\n",
              "        async function convertToInteractive(key) {\n",
              "          const element = document.querySelector('#df-98bb8411-d88c-4584-b7b5-69340062600a');\n",
              "          const dataTable =\n",
              "            await google.colab.kernel.invokeFunction('convertToInteractive',\n",
              "                                                     [key], {});\n",
              "          if (!dataTable) return;\n",
              "\n",
              "          const docLinkHtml = 'Like what you see? Visit the ' +\n",
              "            '<a target=\"_blank\" href=https://colab.research.google.com/notebooks/data_table.ipynb>data table notebook</a>'\n",
              "            + ' to learn more about interactive tables.';\n",
              "          element.innerHTML = '';\n",
              "          dataTable['output_type'] = 'display_data';\n",
              "          await google.colab.output.renderOutput(dataTable, element);\n",
              "          const docLink = document.createElement('div');\n",
              "          docLink.innerHTML = docLinkHtml;\n",
              "          element.appendChild(docLink);\n",
              "        }\n",
              "      </script>\n",
              "    </div>\n",
              "  </div>\n",
              "  "
            ],
            "text/plain": [
              "           Entity Type\n",
              "2   Simone França  PER\n",
              "9          Simone  PER\n",
              "10         Simone  PER\n",
              "14    Alan Bousso  PER"
            ]
          },
          "metadata": {},
          "execution_count": 132
        }
      ]
    },
    {
      "cell_type": "code",
      "source": [
        "# Remove duplicate rows\n",
        "df = df.drop_duplicate(subset = None)"
      ],
      "metadata": {
        "id": "dZKzz8s172Xm"
      },
      "execution_count": null,
      "outputs": []
    },
    {
      "cell_type": "code",
      "source": [
        "# Split the name into First and Family Name\n",
        "df[['FirstName', 'FamilyName']] = df['Entity'].str.split(' ', 1, expand = True)\n",
        "df"
      ],
      "metadata": {
        "id": "t1KxEg5YWCTv"
      },
      "execution_count": 102,
      "outputs": []
    }
  ]
}