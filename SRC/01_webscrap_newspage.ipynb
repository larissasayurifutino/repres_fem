{
  "nbformat": 4,
  "nbformat_minor": 0,
  "metadata": {
    "colab": {
      "name": "01_webscrap_newspage.ipynb",
      "provenance": []
    },
    "kernelspec": {
      "name": "python3",
      "display_name": "Python 3"
    },
    "language_info": {
      "name": "python"
    }
  },
  "cells": [
    {
      "cell_type": "code",
      "source": [
        "!pip install lxml"
      ],
      "metadata": {
        "colab": {
          "base_uri": "https://localhost:8080/"
        },
        "id": "5wy5DIAaoSFc",
        "outputId": "0878955e-2212-440b-f0e6-9121485a8dd1"
      },
      "execution_count": 1,
      "outputs": [
        {
          "output_type": "stream",
          "name": "stdout",
          "text": [
            "Requirement already satisfied: lxml in /usr/local/lib/python3.7/dist-packages (4.2.6)\n"
          ]
        }
      ]
    },
    {
      "cell_type": "code",
      "execution_count": 2,
      "metadata": {
        "id": "f-S085mQPTfi"
      },
      "outputs": [],
      "source": [
        "# Bibliotecas\n",
        "\n",
        "import requests           # Pegar os links para as planilhas & Baixar as planilhas propriamente ditas\n",
        "\n",
        "pag = \"https://www1.folha.uol.com.br/cotidiano/2022/01/apos-reportagem-da-folha-justica-absolve-lavrador-que-ficou-preso-por-7-anos.shtml\"\n",
        "\n",
        "#pag = \"https://www1.folha.uol.com.br/mundo/2022/01/coreia-do-norte-diz-que-fez-novo-teste-de-missil-hipersonico.shtml?origin=folha\"\n",
        "\n",
        "resposta = requests.get(pag)\n",
        "html = resposta.content\n",
        "\n",
        "# Encoding\n",
        "html = html.decode(\"UTF-8\")"
      ]
    },
    {
      "cell_type": "code",
      "source": [
        "from lxml.html import document_fromstring\n",
        "\n",
        "arvore = document_fromstring(html)"
      ],
      "metadata": {
        "id": "bdHaS6YMthEo"
      },
      "execution_count": 3,
      "outputs": []
    },
    {
      "cell_type": "code",
      "source": [
        "import re\n",
        "\n",
        "tags_head = arvore.xpath(\"//title\")\n",
        "\n",
        "title_info = []\n",
        "for tag in tags_head:\n",
        "  tit = tag.xpath(\"text()\")[-0]\n",
        "  tit = str(tit)\n",
        "  if re.findall('\\d{2}/\\d{2}/\\d{4}', tit):\n",
        "    title_info.append(tit) "
      ],
      "metadata": {
        "id": "t5TwDljxxEB2"
      },
      "execution_count": 4,
      "outputs": []
    },
    {
      "cell_type": "code",
      "source": [
        "# Get some parameters\n",
        "param = title_info[0].split(\"-\")\n",
        "\n",
        "title = param[0].strip()\n",
        "date = param[1].strip()\n",
        "edit = param[2].strip()"
      ],
      "metadata": {
        "id": "RFQJodbPZqqY"
      },
      "execution_count": 5,
      "outputs": []
    },
    {
      "cell_type": "code",
      "source": [
        "# Subtitle\n",
        "## <meta name=\"description\" content=\"José Aparecido Alves Filho havia sido condenado a 21 anos por latrocínio\">\n",
        "tags_subtit = arvore.xpath('//meta[@name=\"description\"]')\n",
        "\n",
        "subtitle = []\n",
        "for tag in tags_subtit:\n",
        "  subtit = tag.attrib.get(\"content\")\n",
        "  subtitle.append(subtit)\n",
        "\n",
        "subtitle = subtitle[0].strip()"
      ],
      "metadata": {
        "id": "RDGOJX8R2H8p"
      },
      "execution_count": 6,
      "outputs": []
    },
    {
      "cell_type": "code",
      "source": [
        "subtitle"
      ],
      "metadata": {
        "colab": {
          "base_uri": "https://localhost:8080/",
          "height": 35
        },
        "id": "OwHdAALGMEPz",
        "outputId": "20fb8ccd-afea-47ca-f082-0e084c87ee25"
      },
      "execution_count": 7,
      "outputs": [
        {
          "output_type": "execute_result",
          "data": {
            "application/vnd.google.colaboratory.intrinsic+json": {
              "type": "string"
            },
            "text/plain": [
              "'José Aparecido Alves Filho havia sido condenado a 21 anos por latrocínio'"
            ]
          },
          "metadata": {},
          "execution_count": 7
        }
      ]
    },
    {
      "cell_type": "code",
      "source": [
        "# Author\n",
        "tags_author = arvore.xpath('//div[@class=\"c-signature\"]/strong/a')\n",
        "\n",
        "author_aux = []\n",
        "for tag in tags_author:\n",
        "    assin = tag.xpath(\"text()\")\n",
        "    author_aux.append(assin)"
      ],
      "metadata": {
        "id": "XE4v6PDJr-IH"
      },
      "execution_count": 8,
      "outputs": []
    },
    {
      "cell_type": "code",
      "source": [
        "author_aux"
      ],
      "metadata": {
        "colab": {
          "base_uri": "https://localhost:8080/"
        },
        "id": "k67b9BFBoA3Y",
        "outputId": "76e645e4-98e4-4ccf-d28b-e4c8cfd76c81"
      },
      "execution_count": 9,
      "outputs": [
        {
          "output_type": "execute_result",
          "data": {
            "text/plain": [
              "[['Rogério Pagnan'], ['Artur Rodrigues']]"
            ]
          },
          "metadata": {},
          "execution_count": 9
        }
      ]
    },
    {
      "cell_type": "code",
      "source": [
        "# In case of more than one author:\n",
        "def concatenate_authors(list):\n",
        "    result_aux = ''\n",
        "    for element in list:\n",
        "        result_aux += ' AND ' + str(element[0])\n",
        "\n",
        "    nchar = len(result_aux)\n",
        "    result = result_aux[5:nchar]    \n",
        "    return result\n",
        "\n",
        "\n",
        "author = concatenate_authors(author_aux) \n",
        "author"
      ],
      "metadata": {
        "colab": {
          "base_uri": "https://localhost:8080/",
          "height": 35
        },
        "id": "OWtHnMpWgALM",
        "outputId": "51c08ea6-9e45-4c00-9646-bf2eb8b3a3b9"
      },
      "execution_count": 10,
      "outputs": [
        {
          "output_type": "execute_result",
          "data": {
            "application/vnd.google.colaboratory.intrinsic+json": {
              "type": "string"
            },
            "text/plain": [
              "'Rogério Pagnan AND Artur Rodrigues'"
            ]
          },
          "metadata": {},
          "execution_count": 10
        }
      ]
    },
    {
      "cell_type": "code",
      "source": [
        "# ArticleID\n",
        "def regex_id(string):\n",
        "  pattern = re.compile(r'\"\\d{16}\"') \n",
        "  result = pattern.match(string)\n",
        "  if result:\n",
        "    return  result.group()\n",
        "  return None\n",
        "\n",
        "\n",
        "html_split = html.split('\"articleId\": ')\n",
        "articleId_aux = html_split[1]\n",
        " \n",
        "articleId = regex_id(articleId_aux)[1:16]"
      ],
      "metadata": {
        "id": "NLBNrG3Maga5"
      },
      "execution_count": 11,
      "outputs": []
    },
    {
      "cell_type": "code",
      "source": [
        "# https://www.w3resource.com/python-exercises/python-basic-exercise-27.php\n",
        "def concatenate_list_data(list):\n",
        "    result = ''\n",
        "    for element in list:\n",
        "        result += str(element)\n",
        "    return result"
      ],
      "metadata": {
        "id": "8o0rLxn_wsUH"
      },
      "execution_count": 12,
      "outputs": []
    },
    {
      "cell_type": "code",
      "source": [
        "# https://stackoverflow.com/questions/17380869/get-list-items-inside-div-tag-using-xpath\n",
        "tags_p = arvore.xpath('//div[@class=\"c-news__body\"]//p')\n",
        "\n",
        "#import codecs\n",
        "\n",
        "paragrafo = []\n",
        "\n",
        "for tag in tags_p:\n",
        "  parag = tag.xpath(\"text()\")\n",
        "  if len(parag):\n",
        "    parag_final = concatenate_list_data(parag)\n",
        "    paragrafo.append(parag_final)"
      ],
      "metadata": {
        "id": "jbF8r1Oym15P"
      },
      "execution_count": 13,
      "outputs": []
    },
    {
      "cell_type": "code",
      "source": [
        "paragrafo"
      ],
      "metadata": {
        "colab": {
          "base_uri": "https://localhost:8080/"
        },
        "id": "C2PJId6bpbIe",
        "outputId": "9f31983c-30d2-41ac-fe7d-097ca8664628"
      },
      "execution_count": 14,
      "outputs": [
        {
          "output_type": "execute_result",
          "data": {
            "text/plain": [
              "['A Justiça de São Paulo absolveu o trabalhador rural , que ficou preso sete anos. Ele foi solto em julho do ano passado, por determinação do , após a contar a história dele .',\n",
              " 'A sentença absolutória do juiz Lucas Pereira Moraes Garcia, da 1ª Vara Criminal de Bragança Paulista, foi publicada na última sexta-feira (7). Como se trata de uma decisão de primeira instância, o Ministério Público ainda pode recorrer.',\n",
              " 'À , José Aparecido disse que a decisão tira um peso das costas dele. \"Nesse tempo, estava pensando no que iria acontecer. Estava meio inseguro. Agradeço a Deus, estou muito feliz\", disse ele, que é casado e tem dois filhos.',\n",
              " 'O lavrador afirma que, um mês após ser libertado, já recomeçou a vida de trabalho rural com um antigo patrão que o procurou. Ele disse ainda ter sido bem recebido na vizinhança. \"Todo mundo acredita na minha inocência, no bairro. Todo mundo me abraçou, confiam em mim.\"',\n",
              " 'Agora, ele trabalha para reconstruir tudo que perdeu nos sete anos que ficou preso, quando sua família ficou sem renda. No entanto, afirma que a experiência acabou mudando sua perspectiva de vida. \"Depois do que eu passei, eu dou valor para um copo de água. Tomo uma chuvinha e dou graças a Deus.\"',\n",
              " 'O trabalhador rural havia sido condenado a 21 anos por um latrocínio apesar de a única prova contra ele ter sido uma delação desmentida. Evandro Matias Cruz, réu confesso do crime, chegou a apontá-lo como comparsa do crime em reconhecimento da delegacia, mas depois voltou atrás.',\n",
              " 'Na Justiça, afirmou nunca ter apontado José Aparecido como culpado.',\n",
              " 'Dias após a contar a história de José Aparecido, o , atendendo a pedido da defesa, anulou a sentença de primeira instância e mandou ouvir novamente Cruz para tirar uma dúvida sobre uma carta escrita em próprio punho. Ao juiz Moraes Garcia, reafirmou que José Aparecido era inocente.',\n",
              " 'A decisão da Justiça de Bragança contrariou o pedido do novo promotor do caso, o promotor Rogério José Filócomo Júnior, que insistiu na condenação do trabalhador rural, mesmo admitindo não haver provas concretas contra ele.',\n",
              " '\"É claro que prova direta... testemunha presencial. ‘Eu vi o José Aparecido matando a vítima, tacando fogo no corpo.’ Isso não tem. Claro. Isso não tem. E as demais provas? E as provas indiretas? E os elementos que foram colhidos na fase policial e foram corroborados em juízo? Isso é questão de valoração\", disse.',\n",
              " 'As provas indiretas, segundo ele, seriam os testemunhos de vizinhos que apontavam um descontentamento do ex-patrão (e vítima) com José Aparecido e, também, os depoimentos de delegado e de investigador.',\n",
              " '\"Claro que o réu poderia saber disso [que poderia ser demitido] e foi questão de dias antes do crime. Isso, como indício, não pode ser uma motivação para que ele se ajustasse aos demais? Pode ser uma motivação. Até porque o próprio Código Penal fala de indícios e presunções. É um indício e presunção de uma motivação.\"',\n",
              " 'O promotor falou por mais de 15 minutos para sustentar a condenação. Boa parte desse tempo foi para criticar reportagem da porque contou a história de José Aparecido na série \"Inocentes Presos\" e por ter afirmado que a condenação dele ocorreu sem provas.',\n",
              " '\"Aqui estamos no seguinte dilema: \\'Ou a está certa, e todos esses profissionais do direito, esses experientes profissionais do direito estão errados. Ou é o contrário. Ou os profissionais do direito estão certos e a está errada\", disse sobre juízes e desembargadores que participaram da condenação do lavrador.',\n",
              " '\\n        \\n        \\n\\n        \\n      ',\n",
              " '\"Como a própria colocou. Réu é condenado sem provas. Se está sem prova, precisa ser absolvido. Agora, se existe prova, se esses profissionais que analisaram, se entenderam que as provas autorizam a condenação, não tem que absolver por causa da . Tem que condenar novamente\", disse ele.',\n",
              " 'O crime pelo qual José Aparecido foi condenado ocorreu na noite de 24 de março de 2014, em uma área rural de Bragança Paulista (SP), a 85 km da capital, e teve como vítima o patrão dele, o sitiante José Henrique Vettori, então com 68 anos de idade.',\n",
              " 'Vettori foi rendido por homens armados quando parou a picape na entrada de seu sítio no município de Tuiuti, vizinho a Bragança. Mesmo sem oferecer resistência, ele foi agredido e morto por um dos ladrões enquanto era levado para outro local.',\n",
              " 'Os criminosos colocaram o corpo na caçamba da picape, atearam fogo nela e fugiram. O homem apontado como autor do disparo foi Edilson Paulo de Souza, tio de Evandro. Um terceiro criminoso, apelidado de Peixe, ajudou a iniciar o incêndio.',\n",
              " 'Toda a dinâmica montada pela polícia se baseia em depoimento de Evandro, dado na delegacia cerca de dois meses depois do crime, quando ele foi localizado em uma cidade no interior de Minas Gerais, Santana do Manhuaçu, escondido na casa da avó.',\n",
              " 'Os policiais chegaram até o mecânico após investigarem um Fiat Palio abandonado e batido em uma estrada vicinal por Evandro durante a fuga. Neófito na criminalidade, ele se desesperou ao cruzar com duas viaturas da PM que estavam em sentido contrário e nem perceberam o acidente.',\n",
              " 'A confissão de Evandro foi registrada em vídeo. A análise das imagens e do documento produzido a partir dele revela como a polícia .',\n",
              " 'Receba no seu email as notícias sobre o cenário jurídico e conteúdos exclusivos: análise, dicas e eventos; exclusiva para assinantes.',\n",
              " 'Carregando...',\n",
              " 'Nos 37 minutos e 48 segundos de gravação, em nenhum momento os policiais pedem para que o mecânico descreva as características físicas desse terceiro elemento, o Peixe. Também não questionam se o comparsa era branco, negro, alto, baixo, gordo ou magro, novo ou velho, procedimento que deve iniciar qualquer processo de reconhecimento.',\n",
              " 'Em vez disso, quase no final do depoimento, os policiais apresentam a Evandro meia dúzia de fotos. Quando viu uma foto de José Aparecido, Evandro ficou por alguns segundos pensativo.',\n",
              " '\"Eu não tenho a absoluta certeza. Mas...\", começou ele, sendo interrompido por um policial que participava da reunião, que o questionou sobre o motivo da incerteza. \"O boné. Está sem boné. E parece que o cabelo está maior\", afirmou ele.',\n",
              " 'Os policiais propuseram buscar uma foto mais recente de José Aparecido porque, conforme consta no processo, eles usavam uma foto em preto e branco quando o trabalhador rural tinha 17 anos, tirada mais de 18 anos antes.',\n",
              " 'O delegado do caso afirmou que um reconhecimento presencial foi feito na mesma noite do interrogatório, quando Evandro confirmou a participação de José Aparecido. No entanto, um dos policiais que serviu de testemunha no procedimento alegou posteriormente que não participou do ato.',\n",
              " 'O delator, por sua vez, nega que tenha reconhecido José. \"Só tinha o Zé, só o Zé estava lá. Disse que não reconhecia o Zé, tomei mais dois tapas\", relatou Evandro em audiência realizada no fórum de Bragança Paulista em 2015.',\n",
              " 'Após o interrogatório, Evandro deu três depoimentos negando que José Aparecido tivesse participado do crime. No entanto, o primeiro depoimento e um bilhete citando que corroborava com as primeiras informações serviram para que o trabalhador rural fosse condenado em duas instâncias.',\n",
              " 'Após as condenações, Evandro disse que o bilhete não anulava os depoimentos em que inocentava José Aparecido e reafirmou a informação.']"
            ]
          },
          "metadata": {},
          "execution_count": 14
        }
      ]
    },
    {
      "cell_type": "code",
      "source": [
        "text = concatenate_list_data(paragrafo) \n",
        "text"
      ],
      "metadata": {
        "colab": {
          "base_uri": "https://localhost:8080/",
          "height": 126
        },
        "id": "lY4opNR3Uazf",
        "outputId": "4df2ead2-0b7a-4b51-9f3f-45d7e44c2605"
      },
      "execution_count": 15,
      "outputs": [
        {
          "output_type": "execute_result",
          "data": {
            "application/vnd.google.colaboratory.intrinsic+json": {
              "type": "string"
            },
            "text/plain": [
              "'A Justiça de São Paulo absolveu o trabalhador rural , que ficou preso sete anos. Ele foi solto em julho do ano passado, por determinação do , após a contar a história dele .A sentença absolutória do juiz Lucas Pereira Moraes Garcia, da 1ª Vara Criminal de Bragança Paulista, foi publicada na última sexta-feira (7). Como se trata de uma decisão de primeira instância, o Ministério Público ainda pode recorrer.À , José Aparecido disse que a decisão tira um peso das costas dele. \"Nesse tempo, estava pensando no que iria acontecer. Estava meio inseguro. Agradeço a Deus, estou muito feliz\", disse ele, que é casado e tem dois filhos.O lavrador afirma que, um mês após ser libertado, já recomeçou a vida de trabalho rural com um antigo patrão que o procurou. Ele disse ainda ter sido bem recebido na vizinhança. \"Todo mundo acredita na minha inocência, no bairro. Todo mundo me abraçou, confiam em mim.\"Agora, ele trabalha para reconstruir tudo que perdeu nos sete anos que ficou preso, quando sua família ficou sem renda. No entanto, afirma que a experiência acabou mudando sua perspectiva de vida. \"Depois do que eu passei, eu dou valor para um copo de água. Tomo uma chuvinha e dou graças a Deus.\"O trabalhador rural havia sido condenado a 21 anos por um latrocínio apesar de a única prova contra ele ter sido uma delação desmentida. Evandro Matias Cruz, réu confesso do crime, chegou a apontá-lo como comparsa do crime em reconhecimento da delegacia, mas depois voltou atrás.Na Justiça, afirmou nunca ter apontado José Aparecido como culpado.Dias após a contar a história de José Aparecido, o , atendendo a pedido da defesa, anulou a sentença de primeira instância e mandou ouvir novamente Cruz para tirar uma dúvida sobre uma carta escrita em próprio punho. Ao juiz Moraes Garcia, reafirmou que José Aparecido era inocente.A decisão da Justiça de Bragança contrariou o pedido do novo promotor do caso, o promotor Rogério José Filócomo Júnior, que insistiu na condenação do trabalhador rural, mesmo admitindo não haver provas concretas contra ele.\"É claro que prova direta... testemunha presencial. ‘Eu vi o José Aparecido matando a vítima, tacando fogo no corpo.’ Isso não tem. Claro. Isso não tem. E as demais provas? E as provas indiretas? E os elementos que foram colhidos na fase policial e foram corroborados em juízo? Isso é questão de valoração\", disse.As provas indiretas, segundo ele, seriam os testemunhos de vizinhos que apontavam um descontentamento do ex-patrão (e vítima) com José Aparecido e, também, os depoimentos de delegado e de investigador.\"Claro que o réu poderia saber disso [que poderia ser demitido] e foi questão de dias antes do crime. Isso, como indício, não pode ser uma motivação para que ele se ajustasse aos demais? Pode ser uma motivação. Até porque o próprio Código Penal fala de indícios e presunções. É um indício e presunção de uma motivação.\"O promotor falou por mais de 15 minutos para sustentar a condenação. Boa parte desse tempo foi para criticar reportagem da porque contou a história de José Aparecido na série \"Inocentes Presos\" e por ter afirmado que a condenação dele ocorreu sem provas.\"Aqui estamos no seguinte dilema: \\'Ou a está certa, e todos esses profissionais do direito, esses experientes profissionais do direito estão errados. Ou é o contrário. Ou os profissionais do direito estão certos e a está errada\", disse sobre juízes e desembargadores que participaram da condenação do lavrador.\\n        \\n        \\n\\n        \\n      \"Como a própria colocou. Réu é condenado sem provas. Se está sem prova, precisa ser absolvido. Agora, se existe prova, se esses profissionais que analisaram, se entenderam que as provas autorizam a condenação, não tem que absolver por causa da . Tem que condenar novamente\", disse ele.O crime pelo qual José Aparecido foi condenado ocorreu na noite de 24 de março de 2014, em uma área rural de Bragança Paulista (SP), a 85 km da capital, e teve como vítima o patrão dele, o sitiante José Henrique Vettori, então com 68 anos de idade.Vettori foi rendido por homens armados quando parou a picape na entrada de seu sítio no município de Tuiuti, vizinho a Bragança. Mesmo sem oferecer resistência, ele foi agredido e morto por um dos ladrões enquanto era levado para outro local.Os criminosos colocaram o corpo na caçamba da picape, atearam fogo nela e fugiram. O homem apontado como autor do disparo foi Edilson Paulo de Souza, tio de Evandro. Um terceiro criminoso, apelidado de Peixe, ajudou a iniciar o incêndio.Toda a dinâmica montada pela polícia se baseia em depoimento de Evandro, dado na delegacia cerca de dois meses depois do crime, quando ele foi localizado em uma cidade no interior de Minas Gerais, Santana do Manhuaçu, escondido na casa da avó.Os policiais chegaram até o mecânico após investigarem um Fiat Palio abandonado e batido em uma estrada vicinal por Evandro durante a fuga. Neófito na criminalidade, ele se desesperou ao cruzar com duas viaturas da PM que estavam em sentido contrário e nem perceberam o acidente.A confissão de Evandro foi registrada em vídeo. A análise das imagens e do documento produzido a partir dele revela como a polícia .Receba no seu email as notícias sobre o cenário jurídico e conteúdos exclusivos: análise, dicas e eventos; exclusiva para assinantes.Carregando...Nos 37 minutos e 48 segundos de gravação, em nenhum momento os policiais pedem para que o mecânico descreva as características físicas desse terceiro elemento, o Peixe. Também não questionam se o comparsa era branco, negro, alto, baixo, gordo ou magro, novo ou velho, procedimento que deve iniciar qualquer processo de reconhecimento.Em vez disso, quase no final do depoimento, os policiais apresentam a Evandro meia dúzia de fotos. Quando viu uma foto de José Aparecido, Evandro ficou por alguns segundos pensativo.\"Eu não tenho a absoluta certeza. Mas...\", começou ele, sendo interrompido por um policial que participava da reunião, que o questionou sobre o motivo da incerteza. \"O boné. Está sem boné. E parece que o cabelo está maior\", afirmou ele.Os policiais propuseram buscar uma foto mais recente de José Aparecido porque, conforme consta no processo, eles usavam uma foto em preto e branco quando o trabalhador rural tinha 17 anos, tirada mais de 18 anos antes.O delegado do caso afirmou que um reconhecimento presencial foi feito na mesma noite do interrogatório, quando Evandro confirmou a participação de José Aparecido. No entanto, um dos policiais que serviu de testemunha no procedimento alegou posteriormente que não participou do ato.O delator, por sua vez, nega que tenha reconhecido José. \"Só tinha o Zé, só o Zé estava lá. Disse que não reconhecia o Zé, tomei mais dois tapas\", relatou Evandro em audiência realizada no fórum de Bragança Paulista em 2015.Após o interrogatório, Evandro deu três depoimentos negando que José Aparecido tivesse participado do crime. No entanto, o primeiro depoimento e um bilhete citando que corroborava com as primeiras informações serviram para que o trabalhador rural fosse condenado em duas instâncias.Após as condenações, Evandro disse que o bilhete não anulava os depoimentos em que inocentava José Aparecido e reafirmou a informação.'"
            ]
          },
          "metadata": {},
          "execution_count": 15
        }
      ]
    },
    {
      "cell_type": "code",
      "source": [
        "articleId"
      ],
      "metadata": {
        "colab": {
          "base_uri": "https://localhost:8080/",
          "height": 35
        },
        "id": "sjvv-a6miepK",
        "outputId": "cc82b708-0ac3-4f45-d2f8-66b2af1abd48"
      },
      "execution_count": 16,
      "outputs": [
        {
          "output_type": "execute_result",
          "data": {
            "application/vnd.google.colaboratory.intrinsic+json": {
              "type": "string"
            },
            "text/plain": [
              "'172159811189613'"
            ]
          },
          "metadata": {},
          "execution_count": 16
        }
      ]
    },
    {
      "cell_type": "code",
      "source": [
        "# To save data with its important information\n",
        "def save_data(TITLE, SUBTITLE, TEXT, ARTICLEID, AUTHOR, DATE, EDIT, PATH_SAVE):\n",
        "\n",
        "  text_final = TITLE + '. ' + SUBTITLE + '. ' + TEXT\n",
        "\n",
        "  # Write line to file\n",
        "  name_save = str(ARTICLEID) + '_' + AUTHOR + '_' + DATE + '_' + EDIT  + '.txt' \n",
        "  \n",
        "  with open(PATH_SAVE + name_save, 'w') as writefile:\n",
        "    writefile.write(text_final)"
      ],
      "metadata": {
        "id": "u3JLTCn8uRyM"
      },
      "execution_count": 17,
      "outputs": []
    },
    {
      "cell_type": "code",
      "source": [
        "# Google drive conection\n",
        "from google.colab import drive\n",
        "drive.mount('/content/drive')"
      ],
      "metadata": {
        "colab": {
          "base_uri": "https://localhost:8080/"
        },
        "id": "dA9fJYnJiwBy",
        "outputId": "a8102724-274c-4c32-a35b-8ac7026a8999"
      },
      "execution_count": 18,
      "outputs": [
        {
          "output_type": "stream",
          "name": "stdout",
          "text": [
            "Drive already mounted at /content/drive; to attempt to forcibly remount, call drive.mount(\"/content/drive\", force_remount=True).\n"
          ]
        }
      ]
    },
    {
      "cell_type": "code",
      "source": [
        "save_data(title, \n",
        "          subtitle, \n",
        "          text, \n",
        "          articleId, \n",
        "          author, \n",
        "          date, \n",
        "          edit, \n",
        "          '/content/drive/MyDrive/INSPER/03_trabfinal_1certif/Dados/Processed/')"
      ],
      "metadata": {
        "colab": {
          "base_uri": "https://localhost:8080/",
          "height": 335
        },
        "id": "InXXFrIKdSBl",
        "outputId": "63e802d0-94ce-4308-d9ce-f2db368d2c29"
      },
      "execution_count": 19,
      "outputs": [
        {
          "output_type": "error",
          "ename": "FileNotFoundError",
          "evalue": "ignored",
          "traceback": [
            "\u001b[0;31m---------------------------------------------------------------------------\u001b[0m",
            "\u001b[0;31mFileNotFoundError\u001b[0m                         Traceback (most recent call last)",
            "\u001b[0;32m<ipython-input-19-b07a26ae0529>\u001b[0m in \u001b[0;36m<module>\u001b[0;34m()\u001b[0m\n\u001b[1;32m      6\u001b[0m           \u001b[0mdate\u001b[0m\u001b[0;34m,\u001b[0m\u001b[0;34m\u001b[0m\u001b[0;34m\u001b[0m\u001b[0m\n\u001b[1;32m      7\u001b[0m           \u001b[0medit\u001b[0m\u001b[0;34m,\u001b[0m\u001b[0;34m\u001b[0m\u001b[0;34m\u001b[0m\u001b[0m\n\u001b[0;32m----> 8\u001b[0;31m           '/content/drive/MyDrive/INSPER/03_trabfinal_1certif/Dados/Processed/')\n\u001b[0m",
            "\u001b[0;32m<ipython-input-17-6333aecf294b>\u001b[0m in \u001b[0;36msave_data\u001b[0;34m(TITLE, SUBTITLE, TEXT, ARTICLEID, AUTHOR, DATE, EDIT, PATH_SAVE)\u001b[0m\n\u001b[1;32m      7\u001b[0m   \u001b[0mname_save\u001b[0m \u001b[0;34m=\u001b[0m \u001b[0mstr\u001b[0m\u001b[0;34m(\u001b[0m\u001b[0mARTICLEID\u001b[0m\u001b[0;34m)\u001b[0m \u001b[0;34m+\u001b[0m \u001b[0;34m'_'\u001b[0m \u001b[0;34m+\u001b[0m \u001b[0mAUTHOR\u001b[0m \u001b[0;34m+\u001b[0m \u001b[0;34m'_'\u001b[0m \u001b[0;34m+\u001b[0m \u001b[0mDATE\u001b[0m \u001b[0;34m+\u001b[0m \u001b[0;34m'_'\u001b[0m \u001b[0;34m+\u001b[0m \u001b[0mEDIT\u001b[0m  \u001b[0;34m+\u001b[0m \u001b[0;34m'.txt'\u001b[0m\u001b[0;34m\u001b[0m\u001b[0;34m\u001b[0m\u001b[0m\n\u001b[1;32m      8\u001b[0m \u001b[0;34m\u001b[0m\u001b[0m\n\u001b[0;32m----> 9\u001b[0;31m   \u001b[0;32mwith\u001b[0m \u001b[0mopen\u001b[0m\u001b[0;34m(\u001b[0m\u001b[0mPATH_SAVE\u001b[0m \u001b[0;34m+\u001b[0m \u001b[0mname_save\u001b[0m\u001b[0;34m,\u001b[0m \u001b[0;34m'w'\u001b[0m\u001b[0;34m)\u001b[0m \u001b[0;32mas\u001b[0m \u001b[0mwritefile\u001b[0m\u001b[0;34m:\u001b[0m\u001b[0;34m\u001b[0m\u001b[0;34m\u001b[0m\u001b[0m\n\u001b[0m\u001b[1;32m     10\u001b[0m     \u001b[0mwritefile\u001b[0m\u001b[0;34m.\u001b[0m\u001b[0mwrite\u001b[0m\u001b[0;34m(\u001b[0m\u001b[0mtext_final\u001b[0m\u001b[0;34m)\u001b[0m\u001b[0;34m\u001b[0m\u001b[0;34m\u001b[0m\u001b[0m\n",
            "\u001b[0;31mFileNotFoundError\u001b[0m: [Errno 2] No such file or directory: '/content/drive/MyDrive/INSPER/03_trabfinal_1certif/Dados/Processed/172159811189613_Rogério Pagnan AND Artur Rodrigues_10/01/2022_Cotidiano.txt'"
          ]
        }
      ]
    }
  ]
}